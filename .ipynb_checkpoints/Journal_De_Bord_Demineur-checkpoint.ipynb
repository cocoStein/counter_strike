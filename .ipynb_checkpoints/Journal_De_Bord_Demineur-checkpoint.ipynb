{
 "cells": [
  {
   "cell_type": "markdown",
   "metadata": {},
   "source": [
    "# Journal de bord\n"
   ]
  },
  {
   "cell_type": "markdown",
   "metadata": {},
   "source": [
    "Pour notre démineur, nous avons utiliser les CLASS pour nous simplifier la vie. D'abords, nous avons fait la classe des cases. "
   ]
  },
  {
   "cell_type": "markdown",
   "metadata": {},
   "source": [
    "## Class Case "
   ]
  },
  {
   "cell_type": "code",
   "execution_count": null,
   "metadata": {},
   "outputs": [],
   "source": [
    "class Case:\n",
    "    def __init__(self, x, y, valeur = False, numero = 0, open = False, evidence = False):\n",
    "        self.x = x #Coor horizontal\n",
    "        self.y = y #Coor vertical\n",
    "        self.valeur = valeur    #Bombe ou pas\n",
    "        self.numero = numero    #nbr bombes\n",
    "        self.open = open  #discovered or not ( True / False)\n",
    "        self.evidence = evidence #Pour mettre en evidence ou non la case"
   ]
  },
  {
   "cell_type": "markdown",
   "metadata": {},
   "source": [
    "Nous pouvons créer des cases qui possèdent plusieurs caractéristiques. \"Valeur\" pour savoir si la case est une bombe ou non, \"numero\" pour le numéro qui sera afficher dans la grille et dans le jeu, \"open\" pour savoir si la case est découverte ou non et \"evidence\" pour savoir si la case à été mis en évidence. Les coordonnées x et y sont utile pour connaître l'emplacement de la case."
   ]
  },
  {
   "cell_type": "markdown",
   "metadata": {},
   "source": [
    "## Class Plateau"
   ]
  },
  {
   "cell_type": "markdown",
   "metadata": {},
   "source": [
    "La class Plateau est utile pour créer une grille, avec cet objet, nous pourrons la montrer dans le terminal, placer des bombes, créer le nombre de case nécessaire,etc..."
   ]
  },
  {
   "cell_type": "code",
   "execution_count": null,
   "metadata": {},
   "outputs": [],
   "source": [
    "class Plateau:\n",
    "    def __init__(self, x , y, list = []):\n",
    "        self.list = list\n",
    "        self.x = x\n",
    "        self.y = y"
   ]
  },
  {
   "cell_type": "raw",
   "metadata": {},
   "source": [
    "X et Y est pour la taille du plateau alors que \"list\" sera une matrice."
   ]
  },
  {
   "cell_type": "code",
   "execution_count": null,
   "metadata": {},
   "outputs": [],
   "source": [
    "def matrice(self):\n",
    "        # crée une matrice pour le plateau\n",
    "        for i in range(self.y):\n",
    "            k = []\n",
    "            for n in range(self.x):\n",
    "                \n",
    "                k.append(Case(n,i))\n",
    "            self.list.append(k)"
   ]
  },
  {
   "cell_type": "markdown",
   "metadata": {},
   "source": [
    "Nous avons fait une fonction dans la classe plateau pour générer cette \"list\" qui sera notre grille remplis de case. On voit qu'on ajoute des cases avec comme paramètre n et i. Donc si nous voulons appeler la case en position 4,5 on peut utiliser \"plateau.list[5][4]\". Cela sera très simple pour retrouver la case souhaitée."
   ]
  },
  {
   "cell_type": "markdown",
   "metadata": {},
   "source": [
    "Ensuite Il faut y interger des bombes. Nous avons fait cette fonction."
   ]
  },
  {
   "cell_type": "code",
   "execution_count": null,
   "metadata": {},
   "outputs": [],
   "source": [
    "def crBombe(self, difficulty=3):\n",
    "        # crée les bombes dans la matrice\n",
    "        for i in range(difficulty):\n",
    "            x = randrange(self.x) \n",
    "            y = randrange(self.y)\n",
    "            self.list[y][x].valeur = True"
   ]
  },
  {
   "cell_type": "markdown",
   "metadata": {},
   "source": [
    "La \"difficulty\" est le nombre de bombe qu'il y aura dans la grille. Cela change la \"valeur\" d'une case aléatoire de la grille en True. Il est possible que cela tombe deux fois sur la même case mais cela n'est pas grave car c'est aussi ça l'aléatoire. (Ce n'est pas très compliqué de changer ça)"
   ]
  },
  {
   "cell_type": "markdown",
   "metadata": {},
   "source": [
    "Ensuite, nous avons une fonction qui va changer le \"numero\" de toute les cases."
   ]
  },
  {
   "cell_type": "code",
   "execution_count": null,
   "metadata": {},
   "outputs": [],
   "source": [
    "def bombinator(self):\n",
    "        for y in range(self.y):\n",
    "            for x in range(self.x):\n",
    "                self.list[y][x].checkbomb(self.list)"
   ]
  },
  {
   "cell_type": "markdown",
   "metadata": {},
   "source": [
    "La fonction parcours toutes les cases et applique une fonction qui se trouve dans la class \"case\". "
   ]
  },
  {
   "cell_type": "code",
   "execution_count": null,
   "metadata": {},
   "outputs": [],
   "source": [
    "def checkbomb(self, list_plato):\n",
    "        \n",
    "        if self.valeur == False:\n",
    "            \n",
    "            if self.x == 0:\n",
    "                    pass\n",
    "            else:\n",
    "                  \n",
    "                try:    # Check millieu gauche\n",
    "                    if list_plato[self.y][self.x - 1].valeur == True:\n",
    "                        self.numero += 1\n",
    "                except IndexError:\n",
    "                    pass\n",
    "\n",
    "                try:    # Check bas gauche\n",
    "                    if list_plato[self.y + 1][self.x - 1].valeur == True:\n",
    "                        self.numero += 1\n",
    "                except IndexError:\n",
    "                    pass\n",
    "            \n",
    "            if self.y == 0:\n",
    "                pass\n",
    "            else:\n",
    "                try:    # Check haut millieu\n",
    "                    if list_plato[self.y - 1][self.x].valeur == True:\n",
    "                        self.numero += 1\n",
    "                except IndexError:\n",
    "                    pass\n",
    "                try:   # Check haut gauche\n",
    "                    if list_plato[self.y - 1][self.x + 1].valeur == True:\n",
    "                        self.numero += 1\n",
    "                except IndexError:\n",
    "                    pass\n",
    "            \n",
    "            if self.y == 0 or self.x == 0:\n",
    "                pass\n",
    "            else:\n",
    "                try:    # Check haut gauche\n",
    "                    if list_plato[self.y - 1][self.x - 1].valeur == True:\n",
    "                        self.numero += 1\n",
    "                except IndexError:\n",
    "                    pass\n",
    "\n",
    "            try:    # Check millieu droite\n",
    "                if list_plato[self.y][self.x + 1].valeur == True:\n",
    "                    self.numero += 1\n",
    "            except IndexError:\n",
    "                pass\n",
    "\n",
    "            \n",
    "\n",
    "            try:    # Check bas millieu\n",
    "                if list_plato[self.y + 1][self.x].valeur == True:\n",
    "                    self.numero += 1\n",
    "            except IndexError:\n",
    "                pass\n",
    "\n",
    "            try:    # Check bas droite\n",
    "                if list_plato[self.y + 1][self.x + 1].valeur == True:\n",
    "                    self.numero += 1\n",
    "            except IndexError:\n",
    "                pass\n",
    "        else:\n",
    "            self.numero = \"X\""
   ]
  },
  {
   "cell_type": "markdown",
   "metadata": {},
   "source": [
    "Comme vous pouvez le voir, cela n'est pas le plus optimiser mais est une manière qui fonctionne. Cela ajoute \"1\" pour chaque bombe dans le pérmiètre de la case où l'on applique la fonction. Elle change le numéro en \"X\" si c'est une bombe. Il faut faire attention à ne pas checker une case se trouvant hors de la list. C'est pour cela qu'on utilise la fonction try utile pour éviter les erreurs."
   ]
  },
  {
   "cell_type": "markdown",
   "metadata": {},
   "source": [
    "Dès que toutes le bombes aient était placées, nous pouvons montrer dans le terminal la grille avec les cases cachées"
   ]
  },
  {
   "cell_type": "code",
   "execution_count": 3,
   "metadata": {},
   "outputs": [],
   "source": [
    "def showTerminal(self):\n",
    "        # Affiche dans le terminal les différents éléments\n",
    "        terminal = \"/   \"\n",
    "        for i in range(self.x):\n",
    "            terminal += str(i) + \"   \"\n",
    "        terminal += \"\\n\"\n",
    "        for line in self.list:\n",
    "            terminal += str(self.list.index(line)) + \"|| \"\n",
    "            for case in line:\n",
    "\n",
    "               if case.open == False and case.evidence == False:\n",
    "                    terminal += \"■\" + \" | \"\n",
    "               elif case.evidence == True and case.open == False:\n",
    "                   terminal += \"!\" + \" | \"\n",
    "               else:\n",
    "                    terminal += \"\" + str(case) + \" | \"\n",
    "            \n",
    "            \n",
    "            terminal +=\"\\n\"       \n",
    "        print(terminal)"
   ]
  },
  {
   "cell_type": "markdown",
   "metadata": {},
   "source": [
    "Il y a trois possibilités pour chaque case. Soit elle n'a pas été découverte et donc on met un carré, soit elle a été découverte et donc on y met son \"numero\", soit elle est mise en évidence et donc on y met un \"!\"."
   ]
  },
  {
   "cell_type": "markdown",
   "metadata": {},
   "source": [
    "On a deuxi fonction maintenant, \"discovered\" et \"evidence\" qui permette de changer la paramètre d'une case choisie."
   ]
  },
  {
   "cell_type": "code",
   "execution_count": null,
   "metadata": {},
   "outputs": [],
   "source": [
    "def discovered(self, x , y):\n",
    "        # affiche dans le terminal une fois découverte\n",
    "        self.list[y][x].open = True\n",
    "\n",
    "        draw_number(self, x, y)  #On en parle après\n",
    "\n",
    "        \n",
    "            \n",
    "\n",
    "        if self.list[y][x].numero == 0:\n",
    "            vs = self.list[y][x].voisins(self.list)\n",
    "            for case in vs:\n",
    "                if self.list[case[1]][case[0]].valeur == False and self.list[case[1]][case[0]].open == False :\n",
    "                    self.discovered(case[0],case[1])\n",
    "\n",
    "def evidence(self, x, y):\n",
    "        self.list[y][x].evidence = True\n",
    "        draw_evidence(self, x, y) #On en parle après"
   ]
  },
  {
   "cell_type": "markdown",
   "metadata": {},
   "source": [
    "D'abords \"discovered\". On change le \"open\" de la case en True. Il sera donc affichez avec son \"numero\" au prochain \"showterminal\". Mais ce n'est pas tout, on regarde si c'est un zéro car si c'est le cas, alors nous faisons un \"discovered\" aux cases dans le périmètre de la première case. \"Evidence\" change juste le paramètre du même nom en True."
   ]
  },
  {
   "cell_type": "markdown",
   "metadata": {},
   "source": [
    "Maintenant, il nous faut une condition de victoire. Nous avons donc la fonction suivante:"
   ]
  },
  {
   "cell_type": "code",
   "execution_count": null,
   "metadata": {},
   "outputs": [],
   "source": [
    "def checkwin(self):\n",
    "        # regarde si toute les bombes ont été découverte\n",
    "        n = 0  # nombre de case restant\n",
    "\n",
    "        for line in self.list:\n",
    "            for case in line:\n",
    "                if case.valeur == False and case.open == False:\n",
    "                    n += 1\n",
    "        return n"
   ]
  },
  {
   "cell_type": "markdown",
   "metadata": {},
   "source": [
    "Cela regarde le nombre de case non-\"open\" et avec la \"valeur\" en false(donc pas une bombe) qui reste et retourne le total. Dès que n = 0 on peut stoper la boucle du jeu."
   ]
  },
  {
   "cell_type": "markdown",
   "metadata": {},
   "source": [
    "## Turtle"
   ]
  },
  {
   "cell_type": "markdown",
   "metadata": {},
   "source": [
    "## Main"
   ]
  },
  {
   "cell_type": "markdown",
   "metadata": {},
   "source": [
    "Voici notre fichier Main qui prends on compte tous notre travail. On a choisi les paramètres d'un plateau de 100 cases et dont 20 bombes mais on pourrait mettre un .input pour faire choisir ces paramètres."
   ]
  },
  {
   "cell_type": "code",
   "execution_count": null,
   "metadata": {},
   "outputs": [],
   "source": [
    "from plato import *\n",
    "from case import *\n",
    "from gui import *\n",
    "\n",
    "plato = Plateau(10,10)\n",
    "plato.matrice()\n",
    "plato.crBombe(20)\n",
    "plato.bombinator()\n",
    "plato.showTerminal()\n",
    "k = Case(1000,1000,valeur=False) #case random pour la boucle ensuite.\n",
    "\n",
    "dd = Game_window(screen, stuck1, plato)\n",
    "Game_window.draw_plato_window(dd)\n",
    "\n",
    "while k.valeur == False:\n",
    "    print(\"Il reste \", plato.checkwin(), \" case(s) à trouver.\")\n",
    "    x = int(input(\"Nombre en x : \"))\n",
    "    y = int(input(\"Nombre en y : \"))\n",
    "    question = input(\"Voulez-vous découvrire cette case (d), ou la mettre en évidence (e)\")\n",
    "    if question == \"d\":\n",
    "        plato.discovered(x, y)\n",
    "        k = plato.list[y][x]\n",
    "        plato.showTerminal()\n",
    "\n",
    "    elif question == \"e\":\n",
    "        plato.evidence(x , y)\n",
    "        plato.showTerminal()\n",
    "print(\"BOUUM !!\", x, \",\", y, \"est une bombe, vous avez perdu...\")"
   ]
  }
 ],
 "metadata": {
  "kernelspec": {
   "display_name": "Python 3 (ipykernel)",
   "language": "python",
   "name": "python3"
  },
  "language_info": {
   "codemirror_mode": {
    "name": "ipython",
    "version": 3
   },
   "file_extension": ".py",
   "mimetype": "text/x-python",
   "name": "python",
   "nbconvert_exporter": "python",
   "pygments_lexer": "ipython3",
   "version": "3.9.7"
  },
  "latex_envs": {
   "LaTeX_envs_menu_present": true,
   "autoclose": false,
   "autocomplete": true,
   "bibliofile": "biblio.bib",
   "cite_by": "apalike",
   "current_citInitial": 1,
   "eqLabelWithNumbers": true,
   "eqNumInitial": 1,
   "hotkeys": {
    "equation": "Ctrl-E",
    "itemize": "Ctrl-I"
   },
   "labels_anchors": false,
   "latex_user_defs": false,
   "report_style_numbering": false,
   "user_envs_cfg": false
  },
  "toc": {
   "base_numbering": 1,
   "nav_menu": {},
   "number_sections": true,
   "sideBar": true,
   "skip_h1_title": false,
   "title_cell": "Table of Contents",
   "title_sidebar": "Contents",
   "toc_cell": false,
   "toc_position": {},
   "toc_section_display": true,
   "toc_window_display": false
  }
 },
 "nbformat": 4,
 "nbformat_minor": 4
}
